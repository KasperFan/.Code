{
 "cells": [
  {
   "cell_type": "markdown",
   "metadata": {},
   "source": [
    "<img src=\"./numpy.svg\" width=\"250px\">\n",
    "\n",
    "[Numpy](https://www.numpy.org/) 的英文全称为 Numerical Python，意味 Python 面向数值计算的第三方库。NumPy 的特点在于，针对 Python 内建的数组类型做了扩充，支持更高维度的数组和矩阵运算，以及更丰富的数学函数。\n",
    "\n",
    "NumPy 是 Scipy.org 中最重要的库之一，它同时也被 Pandas，Matplotlib 等我们熟知的第三方库作为核心计算库。当你在单独安装这些库时，你会发现同时会安装 NumPy 作为依赖。\n",
    "\n",
    "我们先来了解 NumPy 支持的数据类型。Python 本身支持的数值类型有 `int`（整型，Python 2 中存在 `long` 长整型）、`float`（浮点型）、`bool`（布尔型） 和 `complex`（复数型）。\n",
    "\n",
    "而 NumPy 支持比 Python 本身更为丰富的数值类型，细分如下：\n",
    "| 类型 | 解释 |\n",
    "|-----|-----|\n",
    "| bool\t|布尔类型，1 个字节，值为 True 或 False。|\n",
    "| int\t|整数类型，通常为 int64 或 int32 。|\n",
    "| intc\t|与 C 里的 int 相同，通常为 int32 或 int64。|\n",
    "| intp\t|用于索引，通常为 int32 或 int64。|\n",
    "| int8\t|字节（从 -128 到 127）|\n",
    "| int16\t|整数（从 -32768 到 32767）|\n",
    "| int32\t|整数（从 -2147483648 到 2147483647）|\n",
    "| int64\t|整数（从 -9223372036854775808 到 9223372036854775807）|\n",
    "| uint8\t|无符号整数（从 0 到 255）|\n",
    "| int16\t|无符号整数（从 0 到 65535）|\n",
    "| uint32\t|无符号整数（从 0 到 4294967295）|\n",
    "| uint64\t|无符号整数（从 0 到 18446744073709551615）|\n",
    "| float\t|float64 的简写。|\n",
    "| float16\t|半精度浮点，5 位指数，10 位尾数|\n",
    "| float32\t|单精度浮点，8 位指数，23 位尾数|\n",
    "| float64\t|双精度浮点，11 位指数，52 位尾数|\n",
    "| complex\t|complex128 的简写。|\n",
    "| complex64\t|复数，由两个 32 位浮点表示。|\n",
    "| complex128\t|复数，由两个 64 位浮点表示。|"
   ]
  },
  {
   "cell_type": "markdown",
   "metadata": {},
   "source": [
    "在 NumPy 中，上面提到的这些数值类型都被归于 `dtype（data-type）` 对象的实例。 我们可以用 `numpy.dtype(object, align, copy)` 来指定数值类型。而在数组里面，可以用 `dtype=` 参数。\n",
    "\n",
    "下面，我们就开始学习 NumPy，首先需要导入 NumPy。"
   ]
  },
  {
   "cell_type": "markdown",
   "metadata": {},
   "source": [
    "<i class=\"fa fa-arrow-circle-down\" aria-hidden=\"true\"> 请在下方代码块中开始编写代码！</i>"
   ]
  },
  {
   "cell_type": "code",
   "execution_count": 3,
   "metadata": {},
   "outputs": [
    {
     "data": {
      "text/plain": [
       "(array([1.1, 2.2, 3.3]), dtype('float64'))"
      ]
     },
     "execution_count": 3,
     "metadata": {},
     "output_type": "execute_result"
    }
   ],
   "source": [
    "import numpy as np # 导入 Numpy 模块\n",
    "\n",
    "a = np.array([1.1, 2.2, 3.3], dtype=np.float64) # 指定 1 维数组的数值类型为 float64\n",
    "a, a.dtype # 查看 a 及 dtype 类型"
   ]
  },
  {
   "cell_type": "markdown",
   "metadata": {},
   "source": [
    "你可以使用 `.astype()` 方法在不同的数值类型之间相互转换。"
   ]
  },
  {
   "cell_type": "code",
   "execution_count": 4,
   "metadata": {},
   "outputs": [
    {
     "data": {
      "text/plain": [
       "dtype('int64')"
      ]
     },
     "execution_count": 4,
     "metadata": {},
     "output_type": "execute_result"
    }
   ],
   "source": [
    "a.astype(int).dtype  # 将 a 的数值类型从 float64 转换为 int，并查看 dtype 类型"
   ]
  },
  {
   "cell_type": "code",
   "execution_count": 5,
   "metadata": {},
   "outputs": [
    {
     "data": {
      "text/plain": [
       "(array([1, 2, 3]), dtype('int64'))"
      ]
     },
     "execution_count": 5,
     "metadata": {},
     "output_type": "execute_result"
    }
   ],
   "source": [
    "b = a.astype(int)\n",
    "b, b.dtype"
   ]
  },
  {
   "cell_type": "code",
   "execution_count": null,
   "metadata": {},
   "outputs": [],
   "source": []
  }
 ],
 "metadata": {
  "kernelspec": {
   "display_name": "Python 3 (ipykernel)",
   "language": "python",
   "name": "python3"
  },
  "language_info": {
   "codemirror_mode": {
    "name": "ipython",
    "version": 3
   },
   "file_extension": ".py",
   "mimetype": "text/x-python",
   "name": "python",
   "nbconvert_exporter": "python",
   "pygments_lexer": "ipython3",
   "version": "3.10.14"
  }
 },
 "nbformat": 4,
 "nbformat_minor": 2
}
