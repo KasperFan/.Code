{
 "cells": [
  {
   "cell_type": "markdown",
   "source": [
    "## 4.3.3 可选参数"
   ],
   "metadata": {
    "collapsed": false
   }
  },
  {
   "cell_type": "markdown",
   "source": [
    "在声明函数时，如果希望函数的一些参数是可选的，可以在声明函数时为这些参数指定默认值。\n",
    "在调用该函数时，如果没有传入对应的实参值，则函数使用声明时指定的默认参数值"
   ],
   "metadata": {
    "collapsed": false
   }
  },
  {
   "cell_type": "markdown",
   "source": [
    "可选参数示例（my_sum1.py）：基于期中成绩和期末成绩，按照指定的权重（默认期中成绩权重为40%）计算总评成绩。"
   ],
   "metadata": {
    "collapsed": false
   }
  },
  {
   "cell_type": "code",
   "execution_count": 1,
   "outputs": [
    {
     "name": "stdout",
     "output_type": "stream",
     "text": [
      "82.60\n",
      "83.50\n"
     ]
    }
   ],
   "source": [
    "def my_sum1(mid_score, end_score, mid_rate = 0.4):      # 期中成绩、期末成绩、期中成绩权重\n",
    "    # 基于期中成绩、期末成绩和期中成绩权重计算总评成绩\n",
    "    score = mid_rate * mid_score + end_score * (1 - mid_rate)\n",
    "    print(format(score, '.2f'))         # 计算总评成绩，保留 2 位小数\n",
    "my_sum1(88, 79)                         # 期中成绩权重为默认的 40%\n",
    "my_sum1(88, 79, 0.5)                    # 期中成绩权重设置为 50%"
   ],
   "metadata": {
    "collapsed": false,
    "ExecuteTime": {
     "start_time": "2024-02-28T20:17:41.619036Z",
     "end_time": "2024-02-28T20:17:41.633100Z"
    }
   }
  },
  {
   "cell_type": "markdown",
   "source": [
    "## 位置参数和命名参数"
   ],
   "metadata": {
    "collapsed": false
   }
  },
  {
   "cell_type": "markdown",
   "source": [
    "在函数调用时，实参默认按位置顺序传递形参。按位置传递的参数称之为位置参数。\n",
    "在函数调用时，也可以通过名称（关键字）指定传入的参数，例如，my_max(a=1, b=2)，或者my_max(b=2, a=1)。\n",
    "按名称指定传入的参数称为命名参数，也称之为关键字参数。\n",
    "使用关键字参数具有三个优点：\n",
    "> - 参数按名称意义明确\n",
    "> - 传递的参数与顺序无关\n",
    "> - 如果有多个可选参数，则可以选择指定某个参数值"
   ],
   "metadata": {
    "collapsed": false
   }
  },
  {
   "cell_type": "code",
   "execution_count": null,
   "outputs": [],
   "source": [],
   "metadata": {
    "collapsed": false
   }
  }
 ],
 "metadata": {
  "kernelspec": {
   "display_name": "Python 3",
   "language": "python",
   "name": "python3"
  },
  "language_info": {
   "codemirror_mode": {
    "name": "ipython",
    "version": 2
   },
   "file_extension": ".py",
   "mimetype": "text/x-python",
   "name": "python",
   "nbconvert_exporter": "python",
   "pygments_lexer": "ipython2",
   "version": "2.7.6"
  }
 },
 "nbformat": 4,
 "nbformat_minor": 0
}
