{
 "cells": [
  {
   "cell_type": "markdown",
   "metadata": {},
   "source": [
    "## 2.7.4 复数类型"
   ]
  },
  {
   "cell_type": "markdown",
   "metadata": {},
   "source": [
    "当数值字符串中包含虚部（j 或 J）时，即为复数（complex）字面量。\n",
    "complex是Python的内置数据类型，Python解释器自动创建complex型对象实例。\n",
    "其基本形式为：\n",
    "```Python\n",
    "     complex(real[, imag])   # 创建 complex 对象（虚部可选）\n",
    "```"
   ]
  },
  {
   "cell_type": "code",
   "execution_count": 1,
   "metadata": {
    "ExecuteTime": {
     "end_time": "2024-02-21T15:30:13.568310Z",
     "start_time": "2024-02-21T15:30:13.535738Z"
    }
   },
   "outputs": [
    {
     "data": {
      "text/plain": [
       "(1+2j)"
      ]
     },
     "execution_count": 1,
     "metadata": {},
     "output_type": "execute_result"
    }
   ],
   "source": [
    "1+2j            # 输出：(1+2j)"
   ]
  },
  {
   "cell_type": "code",
   "execution_count": 2,
   "metadata": {
    "ExecuteTime": {
     "end_time": "2024-02-21T15:30:14.935366Z",
     "start_time": "2024-02-21T15:30:14.919586Z"
    }
   },
   "outputs": [
    {
     "data": {
      "text/plain": [
       "complex"
      ]
     },
     "execution_count": 2,
     "metadata": {},
     "output_type": "execute_result"
    }
   ],
   "source": [
    "type(1+2j)      # 输出：complex"
   ]
  },
  {
   "cell_type": "markdown",
   "metadata": {},
   "source": [
    "complex 对象包含的属性和方法如下表所示：\n",
    "\n",
    ":--- | :---: | :---\n",
    "属性/方法 | 说明 | 示例\n",
    "real | 复数的实部 | >>> (1+2j).real\n",
    "imag | 复数的实部 | >>> (1+2j).imag\n",
    "conjugate() | 共轭复数 | >>> (1+2j).conjugate()"
   ]
  },
  {
   "cell_type": "markdown",
   "metadata": {},
   "source": [
    "## 2.7.8 字符串的格式化"
   ]
  },
  {
   "cell_type": "markdown",
   "metadata": {},
   "source": [
    "通过字符串格式化可以输出特定格式的字符串。Python字符串格式化包括以下几种方式：\n",
    "- 字符串.format(值1, 值2, ... )\n",
    "- str.format(格式字符串1, 值1, 值2, ... )\n",
    "- format(值, 格式字符串)\n",
    "- 格式字符串 % (值1, 值2, ... )        # 兼容Python2的格式，不建议使用"
   ]
  },
  {
   "cell_type": "markdown",
   "metadata": {},
   "source": [
    "有关字符串格式化的详细信息，见8.3节。\n",
    "例如："
   ]
  },
  {
   "cell_type": "code",
   "execution_count": 3,
   "metadata": {
    "ExecuteTime": {
     "end_time": "2024-02-21T15:30:33.357304Z",
     "start_time": "2024-02-21T15:30:33.297954Z"
    }
   },
   "outputs": [
    {
     "data": {
      "text/plain": [
       "'学生人数15, 平均成绩81.2'"
      ]
     },
     "execution_count": 3,
     "metadata": {},
     "output_type": "execute_result"
    }
   ],
   "source": [
    "\"学生人数{0}, 平均成绩{1}\".format(15, 81.2)"
   ]
  },
  {
   "cell_type": "code",
   "execution_count": 4,
   "metadata": {
    "ExecuteTime": {
     "end_time": "2024-02-21T15:30:34.290996Z",
     "start_time": "2024-02-21T15:30:34.242303Z"
    }
   },
   "outputs": [
    {
     "data": {
      "text/plain": [
       "'学生人数15, 平均成绩81.20'"
      ]
     },
     "execution_count": 4,
     "metadata": {},
     "output_type": "execute_result"
    }
   ],
   "source": [
    "str.format(\"学生人数{0}, 平均成绩{1:2.2f}\", 15, 81.2)"
   ]
  },
  {
   "cell_type": "code",
   "execution_count": 5,
   "metadata": {
    "ExecuteTime": {
     "end_time": "2024-02-21T15:30:35.098116Z",
     "start_time": "2024-02-21T15:30:35.047333Z"
    }
   },
   "outputs": [
    {
     "data": {
      "text/plain": [
       "'81.20000'"
      ]
     },
     "execution_count": 5,
     "metadata": {},
     "output_type": "execute_result"
    }
   ],
   "source": [
    "format(81.2, \"0.5f\")        # 输出：'81.20000'"
   ]
  },
  {
   "cell_type": "code",
   "execution_count": 6,
   "metadata": {
    "ExecuteTime": {
     "end_time": "2024-02-21T15:30:36.692894Z",
     "start_time": "2024-02-21T15:30:36.659779Z"
    }
   },
   "outputs": [
    {
     "data": {
      "text/plain": [
       "'学生人数  15, 平均成绩81.0'"
      ]
     },
     "execution_count": 6,
     "metadata": {},
     "output_type": "execute_result"
    }
   ],
   "source": [
    "\"学生人数%4d, 平均成绩%2.1f\" % (15, 81)"
   ]
  },
  {
   "cell_type": "markdown",
   "metadata": {},
   "source": [
    "格式化输出字符串堆积的三角形。\n",
    "其中，str.center()方法用于字符串两边填充；\n",
    "str.rjust(width[, fillchar])方法用于字符串右填充，具体见8.2"
   ]
  },
  {
   "cell_type": "code",
   "execution_count": 7,
   "metadata": {
    "ExecuteTime": {
     "end_time": "2024-02-21T15:30:39.206916Z",
     "start_time": "2024-02-21T15:30:39.180564Z"
    }
   },
   "outputs": [
    {
     "name": "stdout",
     "output_type": "stream",
     "text": [
      "         1          \n",
      "        121         \n",
      "       12321        \n",
      "*******************1\n",
      "*****************121\n",
      "***************12321\n"
     ]
    }
   ],
   "source": [
    "print(\"1\".center(20))           # 一行20个字符, 居中对齐\n",
    "print(format(\"121\", \"^20\"))     # 一行20个字符, 居中对齐\n",
    "print(format(\"12321\", \"^20\"))   # 一行20个字符, 居中对齐\n",
    "print(\"1\".rjust(20, \"*\"))       # 一行20个字符, 右对齐, 加*号\n",
    "print(format(\"121\", \"*>20\"))    # 一行20个字符, 右对齐, 加*号\n",
    "print(format(\"12321\", \"*>20\"))  # 一行20个字符, 右对齐, 加*号"
   ]
  },
  {
   "cell_type": "markdown",
   "metadata": {},
   "source": [
    "# 2.10 综合应用: turtle 模块和海龟绘图"
   ]
  },
  {
   "cell_type": "markdown",
   "metadata": {},
   "source": [
    "# 2.10.1 海龟绘图概述\n",
    "\n",
    "所谓的海龟绘图，即假定一只海龟（海龟带着一支笔）在一个屏幕上来回移动，当它移动时会绘制直线。海龟可以沿直线移动指定的距离，也可以旋转一个指定的角度。\n",
    "通过编写代码可以控制海龟移动和绘图，从而绘制出图形。使用海龟作图，不仅能够使用简单的代码创建出令人印象深刻的视觉效果，而且还可以跟随海龟，动态查看程序代码如何影响到海龟的移动和绘制，从而帮助理解代码的逻辑。\n",
    "Python标准库中的turtle模块实现了海龟绘图的功能。使用turtle模块绘图，一般遵循如下步骤。"
   ]
  },
  {
   "cell_type": "markdown",
   "metadata": {},
   "source": [
    "（1）导入turtle模块。"
   ]
  },
  {
   "cell_type": "code",
   "execution_count": 1,
   "metadata": {
    "ExecuteTime": {
     "end_time": "2024-02-22T14:22:32.600800Z",
     "start_time": "2024-02-22T14:22:32.536573Z"
    }
   },
   "outputs": [],
   "source": [
    "from turtle import *                # 将turtle模块中的所有方法导入"
   ]
  },
  {
   "cell_type": "markdown",
   "metadata": {},
   "source": [
    "（2）创建海龟对象（turtle模块同时实现了函数模式，故也可以不创建海龟对象，直接调用函数，直接绘图）。"
   ]
  },
  {
   "cell_type": "code",
   "execution_count": 2,
   "metadata": {
    "ExecuteTime": {
     "end_time": "2024-02-22T14:22:35.507158Z",
     "start_time": "2024-02-22T14:22:35.501017Z"
    }
   },
   "outputs": [],
   "source": [
    "p = Turtle                          # 创建海龟对象"
   ]
  },
  {
   "cell_type": "markdown",
   "metadata": {},
   "source": [
    "（3）设置海龟的绘图属性（画笔的属性、颜色、画线的宽度等）。"
   ]
  },
  {
   "cell_type": "code",
   "execution_count": null,
   "metadata": {},
   "outputs": [],
   "source": [
    "pensize(width)/width(width)         # 绘制图形时的宽度\n",
    "color(colorstring)                  # 绘制图形时的画笔颜色和填充颜色\n",
    "pencolor(colorstring)               # 绘制图形时的画笔颜色\n",
    "fillcolor(colorstring)              # 绘制图形时的填充颜色"
   ]
  },
  {
   "cell_type": "markdown",
   "metadata": {},
   "source": [
    "（4）控制和操作海龟绘图。"
   ]
  },
  {
   "cell_type": "code",
   "execution_count": null,
   "metadata": {},
   "outputs": [],
   "source": [
    "pendown()/pd()/down()                             # 移动时绘制图形，缺省时为绘制\n",
    "penup()/pu()/up()                                 # 移动时不绘制图形\n",
    "forward(distance)/fd(distance)                    # 向前移动distance指定的距离\n",
    "backward(distance)/bk(distance)/back(distance)    # 向后移动distance指定的距离\n",
    "right(angle)/rt(angle)                            # 向右旋转angle指定的角度\n",
    "left(angle)/lt(angle)                             # 向左旋转angle指定的角度\n",
    "goto(x,y)/setpos(x,y)/setposition(x,y)            # 将画笔移动到坐标为(x,y)的位置\n",
    "dot(size=None, * color)                           # 绘制指定大小的圆点\n",
    "circle(radius, extent=None, steps=None)           # 绘制指定大小的圆\n",
    "write(arg, move=False, align='left', font=('Arial', 8, 'normal'))   # 绘制文本\n",
    "stamp()                                           # 复制当前图形\n",
    "speed(speed)                                      # 画笔绘制的速度（[0,10]之间的整数）\n",
    "showturtle()/st()                                 # 显示海龟\n",
    "hideturtle()/ht()                                 # 隐藏海龟\n",
    "clear()                                           # 清除海龟绘制的图形\n",
    "reset()                                           # 清除海龟绘制的图形并重置海龟属性"
   ]
  }
 ],
 "metadata": {
  "kernelspec": {
   "display_name": "Python 3 (ipykernel)",
   "language": "python",
   "name": "python3"
  },
  "language_info": {
   "codemirror_mode": {
    "name": "ipython",
    "version": 3
   },
   "file_extension": ".py",
   "mimetype": "text/x-python",
   "name": "python",
   "nbconvert_exporter": "python",
   "pygments_lexer": "ipython3",
   "version": "3.11.5"
  }
 },
 "nbformat": 4,
 "nbformat_minor": 1
}
