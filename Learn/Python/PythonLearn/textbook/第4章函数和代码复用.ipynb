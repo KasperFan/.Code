{
 "cells": [
  {
   "cell_type": "markdown",
   "metadata": {},
   "source": [
    "## 4.3 参数的传递"
   ]
  },
  {
   "cell_type": "markdown",
   "metadata": {
    "jupyter": {
     "outputs_hidden": false
    }
   },
   "source": [
    "### 4.3.3 可选参数"
   ]
  },
  {
   "cell_type": "markdown",
   "metadata": {},
   "source": [
    "在声明函数时，如果希望函数的一些参数是可选的，可以在声明函数时为这些参数指定默认值。<br>\n",
    "在调用该函数时，如果没有传入对应的实参值，则函数使用声明时指定的默认参数值"
   ]
  },
  {
   "cell_type": "markdown",
   "metadata": {
    "jupyter": {
     "outputs_hidden": false
    }
   },
   "source": [
    "【例 4.11】可选参数示例（my_sum1.py）：基于期中成绩和期末成绩，按照指定的权重（默认期中成绩权重为40%）计算总评成绩。"
   ]
  },
  {
   "cell_type": "code",
   "execution_count": 1,
   "metadata": {
    "ExecuteTime": {
     "end_time": "2024-02-28T20:17:41.633100Z",
     "start_time": "2024-02-28T20:17:41.619036Z"
    },
    "jupyter": {
     "outputs_hidden": false
    }
   },
   "outputs": [
    {
     "name": "stdout",
     "output_type": "stream",
     "text": [
      "82.60\n",
      "83.50\n"
     ]
    }
   ],
   "source": [
    "def my_sum1(mid_score, end_score, mid_rate = 0.4):      # 期中成绩、期末成绩、期中成绩权重\n",
    "    # 基于期中成绩、期末成绩和期中成绩权重计算总评成绩\n",
    "    score = mid_rate * mid_score + end_score * (1 - mid_rate)\n",
    "    print(format(score, '.2f'))         # 计算总评成绩，保留 2 位小数\n",
    "my_sum1(88, 79)                         # 期中成绩权重为默认的 40%\n",
    "my_sum1(88, 79, 0.5)                    # 期中成绩权重设置为 50%"
   ]
  },
  {
   "cell_type": "markdown",
   "metadata": {
    "jupyter": {
     "outputs_hidden": false
    }
   },
   "source": [
    "### 4.3.4 位置参数和命名参数"
   ]
  },
  {
   "cell_type": "markdown",
   "metadata": {},
   "source": [
    "在函数调用时，实参默认按位置顺序传递形参。按位置传递的参数称之为位置参数。\n",
    "在函数调用时，也可以通过名称（关键字）指定传入的参数，例如，my_max(a=1, b=2)，或者my_max(b=2, a=1)。\n",
    "按名称指定传入的参数称为命名参数，也称之为关键字参数。\n",
    "使用关键字参数具有三个优点：\n",
    "- 参数按名称意义明确\n",
    "- 传递的参数与顺序无关\n",
    "- 如果有多个可选参数，则可以选择指定某个参数值"
   ]
  },
  {
   "cell_type": "markdown",
   "metadata": {
    "jupyter": {
     "outputs_hidden": false
    }
   },
   "source": [
    "【例 4.12】命名参数示例（my_sum2.py）：基于期中成绩和期末成绩，按照指定的权重计算总评成绩。本例中所使用的三种调用方式等价。"
   ]
  },
  {
   "cell_type": "code",
   "execution_count": 2,
   "metadata": {},
   "outputs": [
    {
     "name": "stdout",
     "output_type": "stream",
     "text": [
      "82.60\n",
      "82.60\n",
      "82.60\n"
     ]
    }
   ],
   "source": [
    "def my_sum2(mid_score, end_score, mid_rate = 0.4):      # 期中成绩、期末成绩、期中成绩权重\n",
    "    # 基于期中成绩、期末成绩和期中成绩权重计算总评成绩\n",
    "    score = mid_rate * mid_score + end_score * (1 - mid_rate)\n",
    "    print(format(score, '.2f'))         # 计算总评成绩，保留 2 位小数\n",
    "# 期中 88，期末 79，并且期中成绩权重为默认的 40% .三种调用方式等价\n",
    "my_sum2(88, 79)\n",
    "my_sum2(mid_score=88, end_score=79)\n",
    "my_sum2(end_score=79, mid_score=88)"
   ]
  },
  {
   "cell_type": "markdown",
   "metadata": {},
   "source": [
    "### 4.3.5 可变参数（VarArgs）"
   ]
  },
  {
   "cell_type": "markdown",
   "metadata": {},
   "source": [
    "在声明函数时，通过带“\\*”的参数，例如`* param1`，允许向函数传递可变数量的实参。调用函数时，从那一点后所有的参数被收集为一个元组。<br>\n",
    "在声明函数时，也可以通过带“\\*\\*”的参数（例如`** param2`），允许向函数传递可变数量的实参。调用函数时，从那一点后所有的参数被收集为一个字典。<br>\n",
    "带“\\*”或者带“\\*\\*”的参数必须位于形参列表的最后位置。"
   ]
  },
  {
   "cell_type": "markdown",
   "metadata": {},
   "source": [
    "【例 4.13】可变参数示例（mysumVarArgs.py）：利用带“\\*”和带“\\*\\*”的参数计算各数字累加和。"
   ]
  },
  {
   "cell_type": "code",
   "execution_count": 3,
   "metadata": {},
   "outputs": [
    {
     "name": "stdout",
     "output_type": "stream",
     "text": [
      "3\n",
      "15\n",
      "28\n"
     ]
    }
   ],
   "source": [
    "def my_sum4(a, b, * c, ** d):               # 各数字累加和\n",
    "    total = a + b\n",
    "    # for n in c:\n",
    "    #     total = total + n               # 元祖中各元素累加和\n",
    "    # for key in d:\n",
    "    #     total = total + d[key]          # 字典中各元素累加和\n",
    "    for n in c: total += n\n",
    "    for key in d: total += d[key]\n",
    "    return total\n",
    "print(my_sum4(1, 2))                                  # 计算 1+2\n",
    "print(my_sum4(1, 2, 3, 4, 5))                         # 计算 1+2+3+4+5\n",
    "print(my_sum4(1, 2, 3, 4, 5, male = 6, female = 7))    # 计算 1+2+3+4+5+6+7"
   ]
  },
  {
   "cell_type": "markdown",
   "metadata": {},
   "source": [
    "### 4.3.6 参数类型检查"
   ]
  },
  {
   "cell_type": "markdown",
   "metadata": {},
   "source": [
    "通常，函数定义时既要指定定义域也要指定值域，即指定形式参数和返回值的类型。<br>\n",
    "基于Python语言的设计理念，在定义函数时不用限定其参数和返回值的类型。这种灵活性可以实现多态性，即允许函数适用于不同类型的对象，例如，my_average(a,b)函数，即可以返回两个int对象的平均值，，也可以返回两个float对象的平均值。<br>\n",
    "当使用不支持的类型参数调用函数时会产生错误。例如，my_average(a,b)函数传递的参数为str对象时，Python在运行时将抛出错误TypeError。<br>\n",
    "原则上可以增加代码检测这种类型错误，但Python程序设计遵循一种惯例，即用户调用函数时必须理解并保证传入正确类型的参数值。"
   ]
  },
  {
   "cell_type": "markdown",
   "metadata": {},
   "source": [
    "## 4.4 函数的返回值"
   ]
  },
  {
   "cell_type": "markdown",
   "metadata": {},
   "source": [
    "### 4.4.2 返回多个值"
   ]
  },
  {
   "cell_type": "markdown",
   "metadata": {},
   "source": [
    "在函数体中使用return语句可以实现从函数返回一个值并跳出函数。如果需要返回多个值，则可以返回一个元组。"
   ]
  },
  {
   "cell_type": "markdown",
   "metadata": {},
   "source": [
    "【例 4.15】编写一个函数，返回一个随机列表。随机列表示例（randomarray.py）：先编制一个函数，生成由 $n$ 个随机整数构成的列表，然后编写测试代码，生成并输出由 $5$ 个随机整数构成的列表各元素值。"
   ]
  },
  {
   "cell_type": "code",
   "execution_count": 9,
   "metadata": {},
   "outputs": [
    {
     "name": "stdout",
     "output_type": "stream",
     "text": [
      "0.5977764575489334\n",
      "0.6678880062219975\n",
      "0.7350653463960936\n",
      "0.5841043420189534\n",
      "0.19193270336345325\n"
     ]
    }
   ],
   "source": [
    "import random\n",
    "# def randomarray(n):         # 生成由 n 个随机数构成的列表\n",
    "#     a = []\n",
    "#     for i in range(n):\n",
    "#         a.append(random.random())\n",
    "#     return a\n",
    "randomarray = lambda n: [random.random() for _ in range(n)]  # 等效写法：使用lambda表达式（匿名函数）和列表推导式\n",
    "# 测试代码\n",
    "b = randomarray(5)          # 生成由 5 个随机数构成的列表\n",
    "for i in b: print(i)        # 输出列表中每个元素"
   ]
  },
  {
   "cell_type": "markdown",
   "metadata": {},
   "source": [
    "## 4.5 变量的作用域"
   ]
  },
  {
   "cell_type": "markdown",
   "metadata": {},
   "source": [
    "变量声明的位置不同，其可以被访问的范围也不同。变量的可被访问范围称之为变量的作用域。变量按其作用域大小可以分为全局变量、局部变量和类型成员变量。"
   ]
  },
  {
   "cell_type": "markdown",
   "metadata": {},
   "source": [
    "### 4.5.1 全局变量"
   ]
  },
  {
   "cell_type": "markdown",
   "metadata": {},
   "source": [
    "在一个源代码文件中，在函数和类定义之外声明的变量称之为全局变量。全局变量的作用域为其定义的模块，从定义的位置起，直到文件结束位置。<br>\n",
    "通过`import`语句导入模块，也可以通过全限定名称“模块名.变量名”访问。或者通过`from ... import`语句导入模块中的变量并访问。<br>\n",
    "不同的模块都可以访问全局变量，这会导致全局变量的不可预知性。如果多个语句同时修改一个全局变量，则可能导致程序中的错误，且很难发现和更正。<br>\n",
    "全局变量降低了函数或模块之间的通用性，也降低了代码的可读性。一般情况下，应该尽量避免使用全局变量。全局变量一般作为常量使用。"
   ]
  },
  {
   "cell_type": "markdown",
   "metadata": {},
   "source": [
    "【例 4.16】全局变量定义示例（global_variable.py）。"
   ]
  },
  {
   "cell_type": "code",
   "execution_count": null,
   "metadata": {},
   "outputs": [],
   "source": [
    "TAX1 = 0.17                  # 税率常量 17%\n",
    "TAX2 = 0.2                   # 税率常量 20%\n",
    "TAX3 = 0.05                  # 税率常量 5%\n",
    "PI = 3.14                    # 圆周率 3.14"
   ]
  },
  {
   "cell_type": "markdown",
   "metadata": {},
   "source": [
    "【例 4.17】全局变量使用示例（tax.py）。"
   ]
  },
  {
   "cell_type": "code",
   "execution_count": 4,
   "metadata": {},
   "outputs": [
    {
     "name": "stdout",
     "output_type": "stream",
     "text": [
      "1000 200.0\n",
      "1200 240.0\n",
      "1500 300.0\n",
      "2000 400.0\n"
     ]
    }
   ],
   "source": [
    "import global_variable       # 导入全局变量定义\n",
    "def tax(x):                  # 根据税率常量 20% 计算纳税值\n",
    "    return x * global_variable.TAX2\n",
    "# 测试代码\n",
    "a = [1000, 1200, 1500, 2000]\n",
    "for i in a:                  # 计算并打印 4 笔数据的纳税值\n",
    "    print(i, tax(i))"
   ]
  },
  {
   "cell_type": "markdown",
   "metadata": {},
   "source": [
    "### 4.5.2 局部变量"
   ]
  },
  {
   "cell_type": "markdown",
   "metadata": {},
   "source": [
    "在函数体中声明的变量（包括函数参数）称为局部变量，其有效范围（作用域）为函数体。<br>\n",
    "全局代码不能引用一个函数的局部变量或形式参效变量；一个函数也不能引用在另一个函数中定义的局部变量或形式参数变量。<br>\n",
    "如果在一个函数中定义的局部变量（或形式参数变量）与全局变量重名，则局部变量（或形式参数变量）优先，即函数中定义的变量是指局部变量（或形式参数变量），而不是全局变量。"
   ]
  },
  {
   "cell_type": "markdown",
   "metadata": {},
   "source": [
    "【例 4.18】局部变量定义示例(local_variable.py)。"
   ]
  },
  {
   "cell_type": "code",
   "execution_count": 5,
   "metadata": {},
   "outputs": [
    {
     "name": "stdout",
     "output_type": "stream",
     "text": [
      "105\n",
      "100\n"
     ]
    }
   ],
   "source": [
    "num = 100         # 全局变量\n",
    "def f():\n",
    "    num = 105     # 局部变量\n",
    "    print(num)    # 输出局部变量的值\n",
    "# 测试代码\n",
    "f(); print(num)"
   ]
  },
  {
   "cell_type": "markdown",
   "metadata": {},
   "source": [
    "**说明**：函数 `f` 中的`print(num)`语句，引用的是局部变量`num`，因此输出 $105$"
   ]
  },
  {
   "cell_type": "markdown",
   "metadata": {},
   "source": [
    "### 4.5.3 全局语句global"
   ]
  },
  {
   "cell_type": "markdown",
   "metadata": {},
   "source": [
    "在函数体中可以引用全局变量，但如果函数内部的变量名是第一次出现且在赋值语句之前（变量赋值），则解释为定义局部变量。"
   ]
  },
  {
   "cell_type": "markdown",
   "metadata": {},
   "source": [
    "【例 4.19】函数体错误引用全局变量的示例(f_global.py)。"
   ]
  },
  {
   "cell_type": "code",
   "execution_count": 6,
   "metadata": {},
   "outputs": [
    {
     "name": "stdout",
     "output_type": "stream",
     "text": [
      "105\n"
     ]
    },
    {
     "ename": "UnboundLocalError",
     "evalue": "local variable 'n' referenced before assignment",
     "output_type": "error",
     "traceback": [
      "\u001b[0;31m---------------------------------------------------------------------------\u001b[0m",
      "\u001b[0;31mUnboundLocalError\u001b[0m                         Traceback (most recent call last)",
      "Cell \u001b[0;32mIn[6], line 7\u001b[0m\n\u001b[1;32m      5\u001b[0m     n \u001b[38;5;241m+\u001b[39m\u001b[38;5;241m=\u001b[39m \u001b[38;5;241m10\u001b[39m             \u001b[38;5;66;03m# 错误，n在赋值语句前面，解释为局部变量（不存在）\u001b[39;00m\n\u001b[1;32m      6\u001b[0m \u001b[38;5;66;03m# 测试代码\u001b[39;00m\n\u001b[0;32m----> 7\u001b[0m \u001b[43mf\u001b[49m\u001b[43m(\u001b[49m\u001b[43m)\u001b[49m\n",
      "Cell \u001b[0;32mIn[6], line 5\u001b[0m, in \u001b[0;36mf\u001b[0;34m()\u001b[0m\n\u001b[1;32m      3\u001b[0m \u001b[38;5;28;01mdef\u001b[39;00m \u001b[38;5;21mf\u001b[39m():\n\u001b[1;32m      4\u001b[0m     \u001b[38;5;28mprint\u001b[39m(m\u001b[38;5;241m+\u001b[39m\u001b[38;5;241m5\u001b[39m)          \u001b[38;5;66;03m# 引用全局变量 m\u001b[39;00m\n\u001b[0;32m----> 5\u001b[0m     n \u001b[38;5;241m+\u001b[39m\u001b[38;5;241m=\u001b[39m \u001b[38;5;241m10\u001b[39m\n",
      "\u001b[0;31mUnboundLocalError\u001b[0m: local variable 'n' referenced before assignment"
     ]
    }
   ],
   "source": [
    "m = 100\n",
    "n = 200\n",
    "def f():\n",
    "    print(m+5)          # 引用全局变量 m\n",
    "    n += 10             # 错误，n在赋值语句前面，解释为局部变量（不存在）\n",
    "# 测试代码\n",
    "f()"
   ]
  },
  {
   "cell_type": "markdown",
   "metadata": {},
   "source": [
    "如果要为定义在函数外的全局变量赋值，可以使用`global`语句，表明变量是在外面定义的全局变量。`global`语句可以指定多个全局变量。例如“`global x,y,z`”。一般应该尽量避免这样使用全局变量，全局变量会导致程序的可读性差。"
   ]
  },
  {
   "cell_type": "markdown",
   "metadata": {},
   "source": [
    "【例 4.20】全局语句global示例(globallocal.py)。"
   ]
  },
  {
   "cell_type": "code",
   "execution_count": 9,
   "metadata": {},
   "outputs": [
    {
     "name": "stdout",
     "output_type": "stream",
     "text": [
      "module pi = 3.141592653589793\n",
      "module e = 2.718281828459045\n",
      "global pi = 3.14\n",
      "local e = 2.718\n",
      "module pi = 3.14\n",
      "module e = 2.718281828459045\n"
     ]
    }
   ],
   "source": [
    "pi = 3.141592653589793               # 全局变量\n",
    "e = 2.718281828459045                # 全局变量\n",
    "def my_func():\n",
    "    global pi                        # 全局变量，与前面的全局变量pi指向相同的对象\n",
    "    pi = 3.14                        # 改变了全局变量的值\n",
    "    print('global pi =', pi)         # 输出全局变量的值\n",
    "    e = 2.718                        # 局部变量，与前面的全局变量e指向不同的对象\n",
    "    print('local e =', e)            # 输出局部变量的值\n",
    "# 测试代码\n",
    "print('module pi =', pi)             # 输出全局变量的值\n",
    "print('module e =', e)               # 输出全局变量的值\n",
    "my_func()                            # 调用函数\n",
    "print('module pi =', pi)             # 输出全局变量的值，该值在函数中已被更改\n",
    "print('module e =', e)               # 输出全局变量的值"
   ]
  },
  {
   "cell_type": "markdown",
   "metadata": {},
   "source": [
    "### 4.5.4 非局部语句nonlocal"
   ]
  },
  {
   "cell_type": "markdown",
   "metadata": {},
   "source": [
    "在函数体中可以定义嵌套函数，在嵌套函数中如果要为定义在上级函数体的局部变量赋值，可以使用`nonlocal`语句，表明变量不是所在块的局部变量，而是在上级函数体中定义的局部变量。`nonlocal`语句可以指定多个非局部变量。例如“`nonlocal x,y,z`”。"
   ]
  },
  {
   "cell_type": "markdown",
   "metadata": {},
   "source": [
    "【例 4.21】非局部语句nonlocal示例(nonlocal.py)。"
   ]
  },
  {
   "cell_type": "code",
   "execution_count": 11,
   "metadata": {},
   "outputs": [
    {
     "name": "stdout",
     "output_type": "stream",
     "text": [
      "outer func tax rate = 0.17\n",
      "inner func tax rate = 0.05\n",
      "outer func tax rate = 0.05\n"
     ]
    }
   ],
   "source": [
    "def outer_func():\n",
    "    tax_rate = 0.17                                  # 上级函数体中的局部变量\n",
    "    print('outer func tax rate =', tax_rate)         # 输出上级函数体中局部变量的值\n",
    "    def innner_func():\n",
    "        nonlocal tax_rate                            # 在上级函数体中定义的局部变量\n",
    "        tax_rate =0.05                               # 上级函数体中的局部变量重新赋值\n",
    "        print('inner func tax rate =', tax_rate)     # 输出上级函数体中局部变量的值\n",
    "    # 调用函数\n",
    "    innner_func()\n",
    "    print('outer func tax rate =', tax_rate)         # 输出上级函数体中局部变量的值（已更改）\n",
    "# 测试代码\n",
    "outer_func()"
   ]
  },
  {
   "cell_type": "markdown",
   "metadata": {},
   "source": [
    "## 4.6 递归函数"
   ]
  },
  {
   "cell_type": "markdown",
   "metadata": {},
   "source": [
    "### 4.6.3 递归函数需要注意的问题"
   ]
  },
  {
   "cell_type": "markdown",
   "metadata": {},
   "source": [
    "虽然递归函数可以实现简洁和优雅的程序，但编写递归函数时，应该注意如下几个问题。<br>\n",
    "(1) 必须设置终止条件。\n",
    "> 缺少终止条件的递归函数，将会导致无限递归函数调用，其最终结果是系统会耗尽内存。Python会抛出错误RuntimeError,并报告错误信息“maxium recursion depth exceeded(超过最大递归深度)”。\n",
    "\n",
    "一般在递归函数中需要设置终止条件。`sys`模块中，函数`getrecursionlimit()`和`setrecursionlimit()`用于获取和设置最大递归次数。例如："
   ]
  },
  {
   "cell_type": "raw",
   "metadata": {},
   "source": [
    ">>> import sys\n",
    ">>> sys.getrecursionlimit()        # 获取最大递归次数：1000\n",
    ">>> sys.setrecursionlimit(2000)    # 设置最大递归次数为2000"
   ]
  },
  {
   "cell_type": "markdown",
   "metadata": {},
   "source": [
    "(2) 必须保证收敛。\n",
    "> 递归调用解决的子问题的规模必须小于原始问题的规模。否则，也会导致无限递归函数调用。\n",
    "\n",
    "(3) 必须保证内存和运算消耗控制在一定范围。\n",
    "> 递归函数代码虽然看起来简单，但往往会导致过量的递归函数调用，从而消耗过量的内存（导致内存溢出），或过量的运算能力消耗（运行时间过长）。"
   ]
  },
  {
   "cell_type": "markdown",
   "metadata": {},
   "source": [
    "### 4.6.4 递归函数的应用：最大公约数"
   ]
  },
  {
   "cell_type": "markdown",
   "metadata": {},
   "source": [
    "用于计算最大公约数问题的递归方法称之为欧几里得算法，其描述如下：<br>\n",
    "如果p>q，则p和q的最大公约数等于q和p%q的最大公约数。<br>\n",
    "故可以使用递归函数实现，步骤如下：<br>\n",
    "(1) 终止条件：gcd(p,q) = p        # 当q==0时<br>\n",
    "(2) 递归步骤：gcd(q,p%q)          # 当q>1时<br>\n",
    "每次递归，p%q严格递减，故逐渐收敛于0。"
   ]
  },
  {
   "cell_type": "markdown",
   "metadata": {},
   "source": [
    "【例 4.24】使用递归函数计算最大公约数(gcd.py)。"
   ]
  },
  {
   "cell_type": "code",
   "execution_count": 16,
   "metadata": {},
   "outputs": [
    {
     "ename": "ValueError",
     "evalue": "invalid literal for int() with base 10: '-f'",
     "output_type": "error",
     "traceback": [
      "\u001b[0;31m---------------------------------------------------------------------------\u001b[0m",
      "\u001b[0;31mValueError\u001b[0m                                Traceback (most recent call last)",
      "Cell \u001b[0;32mIn[16], line 6\u001b[0m\n\u001b[1;32m      4\u001b[0m     \u001b[38;5;28;01mreturn\u001b[39;00m gcd(a, p \u001b[38;5;241m%\u001b[39m q)       \u001b[38;5;66;03m# 否则，递归调用gcd(q, p % q)\u001b[39;00m\n\u001b[1;32m      5\u001b[0m \u001b[38;5;66;03m# 测试代码\u001b[39;00m\n\u001b[0;32m----> 6\u001b[0m p \u001b[38;5;241m=\u001b[39m \u001b[38;5;28;43mint\u001b[39;49m\u001b[43m(\u001b[49m\u001b[43msys\u001b[49m\u001b[38;5;241;43m.\u001b[39;49m\u001b[43margv\u001b[49m\u001b[43m[\u001b[49m\u001b[38;5;241;43m1\u001b[39;49m\u001b[43m]\u001b[49m\u001b[43m)\u001b[49m           \u001b[38;5;66;03m# p = 命令行第一个参数\u001b[39;00m\n\u001b[1;32m      7\u001b[0m q \u001b[38;5;241m=\u001b[39m \u001b[38;5;28mint\u001b[39m(sys\u001b[38;5;241m.\u001b[39margv[\u001b[38;5;241m2\u001b[39m])           \u001b[38;5;66;03m# q = 命令行第二个参数\u001b[39;00m\n\u001b[1;32m      8\u001b[0m \u001b[38;5;28mprint\u001b[39m(gcd(p, q))               \u001b[38;5;66;03m# 计算并输出p和g的最大公约数\u001b[39;00m\n",
      "\u001b[0;31mValueError\u001b[0m: invalid literal for int() with base 10: '-f'"
     ]
    }
   ],
   "source": [
    "import sys\n",
    "def gcd(p, q):                 # 使用递归函数计算p和q的最大公约数\n",
    "    if q == 0:return p         # 如果q = 0,返回p\n",
    "    return gcd(a, p % q)       # 否则，递归调用gcd(q, p % q)\n",
    "# 测试代码\n",
    "p = int(sys.argv[1])           # p = 命令行第一个参数\n",
    "q = int(sys.argv[2])           # q = 命令行第二个参数\n",
    "print(gcd(p, q))               # 计算并输出p和g的最大公约数"
   ]
  },
  {
   "cell_type": "code",
   "execution_count": null,
   "metadata": {},
   "outputs": [],
   "source": []
  }
 ],
 "metadata": {
  "kernelspec": {
   "display_name": "Python 3 (ipykernel)",
   "language": "python",
   "name": "python3"
  },
  "language_info": {
   "codemirror_mode": {
    "name": "ipython",
    "version": 3
   },
   "file_extension": ".py",
   "mimetype": "text/x-python",
   "name": "python",
   "nbconvert_exporter": "python",
   "pygments_lexer": "ipython3",
   "version": "3.11.5"
  }
 },
 "nbformat": 4,
 "nbformat_minor": 4
}
