{
 "cells": [
  {
   "cell_type": "markdown",
   "metadata": {},
   "source": [
    "# 文件操作"
   ]
  },
  {
   "cell_type": "markdown",
   "metadata": {
    "ExecuteTime": {
     "end_time": "2024-03-04T22:55:24.742978Z",
     "start_time": "2024-03-04T22:55:24.735730Z"
    },
    "collapsed": true,
    "jupyter": {
     "outputs_hidden": true
    }
   },
   "source": [
    "## 打开文件"
   ]
  },
  {
   "cell_type": "markdown",
   "metadata": {},
   "source": [
    "### open()打开函数"
   ]
  },
  {
   "cell_type": "markdown",
   "metadata": {},
   "source": [
    "在Python，使用open函数，可以打开一个已经存在的文件，或者创建一个新文件，语法如下<br>\n",
    "```open(name, mode, encoding)```\n",
    "> name：是要打开的目标文件名的字符串（可以包含文件所在的具体路径）。<br>\n",
    "> mode：设置打开文件的模式（访问模式）：只读、写入、追加等。<br>\n",
    "> encoding：编码格式（推荐使用UTF-8）\n",
    "\n",
    "示例代码："
   ]
  },
  {
   "cell_type": "code",
   "execution_count": 2,
   "metadata": {},
   "outputs": [
    {
     "name": "stdout",
     "output_type": "stream",
     "text": [
      "<class '_io.TextIOWrapper'>\n"
     ]
    }
   ],
   "source": [
    "f = open('python.txt','w',encoding=\"UTF-8\")\n",
    "# encoding的顺序不是第三位，所以不能用位置参数，用关键字参数直接指定\n",
    "print(type(f))"
   ]
  },
  {
   "cell_type": "markdown",
   "metadata": {},
   "source": [
    "**注意事项**\n",
    "注意：此时的`'f'`是`'open'`函数的文件对象，对象是Python中一种特殊的数据类型，拥有属性和方法，可以使用对象.属性或对象.方法对其进行访问。"
   ]
  },
  {
   "cell_type": "markdown",
   "metadata": {},
   "source": [
    "#### mode常用的三种基础访问模式\n",
    "| 模式 | 描述 |\n",
    "|:---:|:---|\n",
    "| r |以只读方式打开文件。文件的指针将会放在文件的开头。这是默认模式。|\n",
    "| w |打开一个文件只用于写入。如果该文件已存在则打开文件，并从开头开始编辑，**原有内容会被删除**。<br>如果该文件**不存在，创建新文件**。|\n",
    "| a |打开一个文件用于追加。如果该文件已存在，**新的内容将会被写入到已有内容之后**。<br>如果该文件**不存在，创建新文件进行写入**。|\n"
   ]
  },
  {
   "cell_type": "markdown",
   "metadata": {},
   "source": [
    "## 读操作相关方法"
   ]
  },
  {
   "cell_type": "markdown",
   "metadata": {},
   "source": [
    "### read()方法："
   ]
  },
  {
   "cell_type": "markdown",
   "metadata": {},
   "source": [
    "```文件对象.read(num)```<br>\n",
    "num表示要从文件中读取的数据的长度（单位是字节），如果没有传入num，那么就表示读取文件中所有的数据。"
   ]
  },
  {
   "cell_type": "markdown",
   "metadata": {},
   "source": [
    "### readlines()方法："
   ]
  },
  {
   "cell_type": "markdown",
   "metadata": {},
   "source": [
    "readlines可以按照行的方式把整个文件中的内容进行一次性读取，并且返回的是一个**列表**，其中每一行的数据为一个元素。"
   ]
  },
  {
   "cell_type": "code",
   "execution_count": null,
   "metadata": {},
   "outputs": [],
   "source": [
    "f = open('python.txt')\n",
    "content = f.readlines()\n",
    "\n",
    "# ['hello world\\n', 'abcdefg\\n', 'aaa\\n', 'bbb\\n', 'ccc']\n",
    "print(content)\n",
    "\n",
    "# 关闭文件\n",
    "f.close()"
   ]
  },
  {
   "cell_type": "markdown",
   "metadata": {},
   "source": [
    "### readline()方法：一次读取一行内容"
   ]
  },
  {
   "cell_type": "code",
   "execution_count": null,
   "metadata": {},
   "outputs": [],
   "source": [
    "f = open('python.txt')\n",
    "\n",
    "content = f.readline()\n",
    "print(f'第一行：{content}')\n",
    "\n",
    "content = f.readline()\n",
    "print(f'第二行：{content}')\n",
    "\n",
    "# 关闭文件\n",
    "f.close()"
   ]
  },
  {
   "cell_type": "markdown",
   "metadata": {},
   "source": [
    "#### for循环读取文件行"
   ]
  },
  {
   "cell_type": "code",
   "execution_count": null,
   "metadata": {},
   "outputs": [],
   "source": [
    "for line in open(\"python.txt\", \"r\"):\n",
    "    print(line)\n",
    "\n",
    "# 每一个line临时变量，就记录了文件的一行数据"
   ]
  },
  {
   "cell_type": "markdown",
   "metadata": {},
   "source": [
    "### close()关闭文件对象"
   ]
  },
  {
   "cell_type": "code",
   "execution_count": null,
   "metadata": {},
   "outputs": [],
   "source": [
    "f = pen(\"python.txt\", \"r\")\n",
    "\n",
    "f.close()\n",
    "\n",
    "# 最后通过close，关闭文件对象，也就是关闭对文件的占用\n",
    "# 如果不调用close，同时程序也没有停止运行，那么这个文件将一直被Python程序占用。"
   ]
  },
  {
   "cell_type": "markdown",
   "metadata": {},
   "source": [
    "### with open 语法"
   ]
  },
  {
   "cell_type": "code",
   "execution_count": null,
   "metadata": {},
   "outputs": [],
   "source": [
    "with open(\"python.txt\", \"r\") as f:\n",
    "    f.readlines()\n",
    "\n",
    "# 通过在with open的语句块中对文件进行操作\n",
    "# 可以在操作完成后自动关闭close文件，避免遗忘掉close方法"
   ]
  },
  {
   "cell_type": "markdown",
   "metadata": {},
   "source": [
    "### 单词计数"
   ]
  },
  {
   "cell_type": "code",
   "execution_count": 3,
   "metadata": {},
   "outputs": [
    {
     "name": "stdout",
     "output_type": "stream",
     "text": [
      "6\n"
     ]
    }
   ],
   "source": [
    "with open(\"test.txt\", \"r\") as f:\n",
    "    print(f.read().count(\"itheima\"))"
   ]
  },
  {
   "cell_type": "markdown",
   "metadata": {},
   "source": [
    "## 写操作快速入门"
   ]
  },
  {
   "cell_type": "markdown",
   "metadata": {},
   "source": [
    "案例演示："
   ]
  },
  {
   "cell_type": "code",
   "execution_count": null,
   "metadata": {},
   "outputs": [],
   "source": [
    "# 1.打开文件\n",
    "f = open('python.txt', 'w')\n",
    "\n",
    "# 2.文件写入\n",
    "f.write('hello world')\n",
    "\n",
    "# 3.内容刷新\n",
    "f.flush()"
   ]
  },
  {
   "cell_type": "markdown",
   "metadata": {},
   "source": [
    "**注意**：\n",
    "- 直接调用`write`，内容并未真正写入文件，而是会积攒在程序的内存中，称之为缓冲区\n",
    "- 当调用`flush`的时候，内容会真正写入文件\n",
    "- 这样做是避免频繁的操作硬盘，导致效率下降（攒一堆，一次性写磁盘）"
   ]
  },
  {
   "cell_type": "code",
   "execution_count": 7,
   "metadata": {},
   "outputs": [],
   "source": [
    "with open('bill.txt', 'r') as f1:\n",
    "    with open('bill.txt.bak', 'w') as f2:\n",
    "        for line in f1:\n",
    "            if \"测试\" in line: continue\n",
    "            f2.write(line)"
   ]
  },
  {
   "cell_type": "code",
   "execution_count": null,
   "metadata": {},
   "outputs": [],
   "source": []
  }
 ],
 "metadata": {
  "kernelspec": {
   "display_name": "Python 3 (ipykernel)",
   "language": "python",
   "name": "python3"
  },
  "language_info": {
   "codemirror_mode": {
    "name": "ipython",
    "version": 3
   },
   "file_extension": ".py",
   "mimetype": "text/x-python",
   "name": "python",
   "nbconvert_exporter": "python",
   "pygments_lexer": "ipython3",
   "version": "3.10.13"
  }
 },
 "nbformat": 4,
 "nbformat_minor": 4
}
