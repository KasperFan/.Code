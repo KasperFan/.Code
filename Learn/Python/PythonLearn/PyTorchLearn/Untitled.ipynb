{
 "cells": [
  {
   "cell_type": "markdown",
   "id": "0905baf6",
   "metadata": {},
   "source": [
    "# Pytorch数据加载"
   ]
  },
  {
   "cell_type": "markdown",
   "id": "1c762942",
   "metadata": {},
   "source": [
    "Dataset：提供一种方式去获取数据及其label\n",
    "\n",
    "Dataloader：为后面的网络提供不同的数据形式"
   ]
  },
  {
   "cell_type": "code",
   "execution_count": 1,
   "id": "6ed9ddbb",
   "metadata": {
    "ExecuteTime": {
     "end_time": "2024-04-02T10:32:45.436729Z",
     "start_time": "2024-04-02T10:32:43.776376Z"
    },
    "collapsed": false,
    "jupyter": {
     "outputs_hidden": false
    }
   },
   "outputs": [],
   "source": [
    "from torch.utils.data import Dataset"
   ]
  },
  {
   "cell_type": "code",
   "execution_count": 2,
   "id": "9867b8a1",
   "metadata": {},
   "outputs": [
    {
     "name": "stdout",
     "output_type": "stream",
     "text": [
      "Help on class Dataset in module torch.utils.data.dataset:\n",
      "\n",
      "class Dataset(typing.Generic)\n",
      " |  An abstract class representing a :class:`Dataset`.\n",
      " |  \n",
      " |  All datasets that represent a map from keys to data samples should subclass\n",
      " |  it. All subclasses should overwrite :meth:`__getitem__`, supporting fetching a\n",
      " |  data sample for a given key. Subclasses could also optionally overwrite\n",
      " |  :meth:`__len__`, which is expected to return the size of the dataset by many\n",
      " |  :class:`~torch.utils.data.Sampler` implementations and the default options\n",
      " |  of :class:`~torch.utils.data.DataLoader`. Subclasses could also\n",
      " |  optionally implement :meth:`__getitems__`, for speedup batched samples\n",
      " |  loading. This method accepts list of indices of samples of batch and returns\n",
      " |  list of samples.\n",
      " |  \n",
      " |  .. note::\n",
      " |    :class:`~torch.utils.data.DataLoader` by default constructs an index\n",
      " |    sampler that yields integral indices.  To make it work with a map-style\n",
      " |    dataset with non-integral indices/keys, a custom sampler must be provided.\n",
      " |  \n",
      " |  Method resolution order:\n",
      " |      Dataset\n",
      " |      typing.Generic\n",
      " |      builtins.object\n",
      " |  \n",
      " |  Methods defined here:\n",
      " |  \n",
      " |  __add__(self, other: 'Dataset[T_co]') -> 'ConcatDataset[T_co]'\n",
      " |  \n",
      " |  __getitem__(self, index) -> +T_co\n",
      " |  \n",
      " |  ----------------------------------------------------------------------\n",
      " |  Data descriptors defined here:\n",
      " |  \n",
      " |  __dict__\n",
      " |      dictionary for instance variables (if defined)\n",
      " |  \n",
      " |  __weakref__\n",
      " |      list of weak references to the object (if defined)\n",
      " |  \n",
      " |  ----------------------------------------------------------------------\n",
      " |  Data and other attributes defined here:\n",
      " |  \n",
      " |  __annotations__ = {}\n",
      " |  \n",
      " |  __orig_bases__ = (typing.Generic[+T_co],)\n",
      " |  \n",
      " |  __parameters__ = (+T_co,)\n",
      " |  \n",
      " |  ----------------------------------------------------------------------\n",
      " |  Class methods inherited from typing.Generic:\n",
      " |  \n",
      " |  __class_getitem__(params) from builtins.type\n",
      " |      Parameterizes a generic class.\n",
      " |      \n",
      " |      At least, parameterizing a generic class is the *main* thing this method\n",
      " |      does. For example, for some generic class `Foo`, this is called when we\n",
      " |      do `Foo[int]` - there, with `cls=Foo` and `params=int`.\n",
      " |      \n",
      " |      However, note that this method is also called when defining generic\n",
      " |      classes in the first place with `class Foo(Generic[T]): ...`.\n",
      " |  \n",
      " |  __init_subclass__(*args, **kwargs) from builtins.type\n",
      " |      This method is called when a class is subclassed.\n",
      " |      \n",
      " |      The default implementation does nothing. It may be\n",
      " |      overridden to extend subclasses.\n",
      "\n"
     ]
    }
   ],
   "source": [
    "help(Dataset)"
   ]
  },
  {
   "cell_type": "code",
   "execution_count": 3,
   "id": "9678c362-84e5-43a6-baa3-de3da208f082",
   "metadata": {},
   "outputs": [
    {
     "data": {
      "text/plain": [
       "\u001B[0;31mInit signature:\u001B[0m \u001B[0mDataset\u001B[0m\u001B[0;34m(\u001B[0m\u001B[0;34m)\u001B[0m\u001B[0;34m\u001B[0m\u001B[0;34m\u001B[0m\u001B[0m\n",
       "\u001B[0;31mSource:\u001B[0m        \n",
       "\u001B[0;32mclass\u001B[0m \u001B[0mDataset\u001B[0m\u001B[0;34m(\u001B[0m\u001B[0mGeneric\u001B[0m\u001B[0;34m[\u001B[0m\u001B[0mT_co\u001B[0m\u001B[0;34m]\u001B[0m\u001B[0;34m)\u001B[0m\u001B[0;34m:\u001B[0m\u001B[0;34m\u001B[0m\n",
       "\u001B[0;34m\u001B[0m    \u001B[0;34mr\"\"\"An abstract class representing a :class:`Dataset`.\u001B[0m\n",
       "\u001B[0;34m\u001B[0m\n",
       "\u001B[0;34m    All datasets that represent a map from keys to data samples should subclass\u001B[0m\n",
       "\u001B[0;34m    it. All subclasses should overwrite :meth:`__getitem__`, supporting fetching a\u001B[0m\n",
       "\u001B[0;34m    data sample for a given key. Subclasses could also optionally overwrite\u001B[0m\n",
       "\u001B[0;34m    :meth:`__len__`, which is expected to return the size of the dataset by many\u001B[0m\n",
       "\u001B[0;34m    :class:`~torch.utils.data.Sampler` implementations and the default options\u001B[0m\n",
       "\u001B[0;34m    of :class:`~torch.utils.data.DataLoader`. Subclasses could also\u001B[0m\n",
       "\u001B[0;34m    optionally implement :meth:`__getitems__`, for speedup batched samples\u001B[0m\n",
       "\u001B[0;34m    loading. This method accepts list of indices of samples of batch and returns\u001B[0m\n",
       "\u001B[0;34m    list of samples.\u001B[0m\n",
       "\u001B[0;34m\u001B[0m\n",
       "\u001B[0;34m    .. note::\u001B[0m\n",
       "\u001B[0;34m      :class:`~torch.utils.data.DataLoader` by default constructs an index\u001B[0m\n",
       "\u001B[0;34m      sampler that yields integral indices.  To make it work with a map-style\u001B[0m\n",
       "\u001B[0;34m      dataset with non-integral indices/keys, a custom sampler must be provided.\u001B[0m\n",
       "\u001B[0;34m    \"\"\"\u001B[0m\u001B[0;34m\u001B[0m\n",
       "\u001B[0;34m\u001B[0m\u001B[0;34m\u001B[0m\n",
       "\u001B[0;34m\u001B[0m    \u001B[0;32mdef\u001B[0m \u001B[0m__getitem__\u001B[0m\u001B[0;34m(\u001B[0m\u001B[0mself\u001B[0m\u001B[0;34m,\u001B[0m \u001B[0mindex\u001B[0m\u001B[0;34m)\u001B[0m \u001B[0;34m->\u001B[0m \u001B[0mT_co\u001B[0m\u001B[0;34m:\u001B[0m\u001B[0;34m\u001B[0m\n",
       "\u001B[0;34m\u001B[0m        \u001B[0;32mraise\u001B[0m \u001B[0mNotImplementedError\u001B[0m\u001B[0;34m(\u001B[0m\u001B[0;34m\"Subclasses of Dataset should implement __getitem__.\"\u001B[0m\u001B[0;34m)\u001B[0m\u001B[0;34m\u001B[0m\n",
       "\u001B[0;34m\u001B[0m\u001B[0;34m\u001B[0m\n",
       "\u001B[0;34m\u001B[0m    \u001B[0;31m# def __getitems__(self, indices: List) -> List[T_co]:\u001B[0m\u001B[0;34m\u001B[0m\n",
       "\u001B[0;34m\u001B[0m    \u001B[0;31m# Not implemented to prevent false-positives in fetcher check in\u001B[0m\u001B[0;34m\u001B[0m\n",
       "\u001B[0;34m\u001B[0m    \u001B[0;31m# torch.utils.data._utils.fetch._MapDatasetFetcher\u001B[0m\u001B[0;34m\u001B[0m\n",
       "\u001B[0;34m\u001B[0m\u001B[0;34m\u001B[0m\n",
       "\u001B[0;34m\u001B[0m    \u001B[0;32mdef\u001B[0m \u001B[0m__add__\u001B[0m\u001B[0;34m(\u001B[0m\u001B[0mself\u001B[0m\u001B[0;34m,\u001B[0m \u001B[0mother\u001B[0m\u001B[0;34m:\u001B[0m \u001B[0;34m'Dataset[T_co]'\u001B[0m\u001B[0;34m)\u001B[0m \u001B[0;34m->\u001B[0m \u001B[0;34m'ConcatDataset[T_co]'\u001B[0m\u001B[0;34m:\u001B[0m\u001B[0;34m\u001B[0m\n",
       "\u001B[0;34m\u001B[0m        \u001B[0;32mreturn\u001B[0m \u001B[0mConcatDataset\u001B[0m\u001B[0;34m(\u001B[0m\u001B[0;34m[\u001B[0m\u001B[0mself\u001B[0m\u001B[0;34m,\u001B[0m \u001B[0mother\u001B[0m\u001B[0;34m]\u001B[0m\u001B[0;34m)\u001B[0m\u001B[0;34m\u001B[0m\n",
       "\u001B[0;34m\u001B[0m\u001B[0;34m\u001B[0m\n",
       "\u001B[0;34m\u001B[0m    \u001B[0;31m# No `def __len__(self)` default?\u001B[0m\u001B[0;34m\u001B[0m\n",
       "\u001B[0;34m\u001B[0m    \u001B[0;31m# See NOTE [ Lack of Default `__len__` in Python Abstract Base Classes ]\u001B[0m\u001B[0;34m\u001B[0m\n",
       "\u001B[0;34m\u001B[0m    \u001B[0;31m# in pytorch/torch/utils/data/sampler.py\u001B[0m\u001B[0;34m\u001B[0m\u001B[0;34m\u001B[0m\u001B[0m\n",
       "\u001B[0;31mFile:\u001B[0m           ~/anaconda3/envs/PyTorch/lib/python3.11/site-packages/torch/utils/data/dataset.py\n",
       "\u001B[0;31mType:\u001B[0m           type\n",
       "\u001B[0;31mSubclasses:\u001B[0m     IterableDataset, TensorDataset, StackDataset, ConcatDataset, Subset, MapDataPipe"
      ]
     },
     "metadata": {},
     "output_type": "display_data"
    }
   ],
   "source": [
    "Dataset??"
   ]
  },
  {
   "cell_type": "code",
   "execution_count": null,
   "id": "e0ee29cc-598e-421b-a9ec-0736640e6ddd",
   "metadata": {},
   "outputs": [],
   "source": []
  }
 ],
 "metadata": {
  "kernelspec": {
   "display_name": "Python 3 (ipykernel)",
   "language": "python",
   "name": "python3"
  },
  "language_info": {
   "codemirror_mode": {
    "name": "ipython",
    "version": 3
   },
   "file_extension": ".py",
   "mimetype": "text/x-python",
   "name": "python",
   "nbconvert_exporter": "python",
   "pygments_lexer": "ipython3",
   "version": "3.11.5"
  }
 },
 "nbformat": 4,
 "nbformat_minor": 5
}
