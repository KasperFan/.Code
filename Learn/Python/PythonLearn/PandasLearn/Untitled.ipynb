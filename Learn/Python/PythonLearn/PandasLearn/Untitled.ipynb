{
 "cells": [
  {
   "cell_type": "markdown",
   "id": "cd07637d",
   "metadata": {},
   "source": [
    "# 03. Pandas数据结构"
   ]
  },
  {
   "cell_type": "markdown",
   "id": "52976e03",
   "metadata": {},
   "source": [
    " 1. Series\n",
    " 2. DataFrame\n",
    " 3. 从DataFrame中查询出Series"
   ]
  },
  {
   "cell_type": "code",
   "execution_count": 1,
   "id": "7bcfd183",
   "metadata": {},
   "outputs": [],
   "source": [
    "import pandas as pd\n",
    "import numpy as np"
   ]
  },
  {
   "cell_type": "markdown",
   "id": "2b8ff3b2",
   "metadata": {},
   "source": [
    "## 1. Series\n",
    "Series是一种类似于一维数组的对象，它由一组数据（不同数据类型）以及一组与之相关的数据标签（即索引）组成。"
   ]
  },
  {
   "cell_type": "markdown",
   "id": "c506c16d",
   "metadata": {},
   "source": [
    "### 1.1 仅有数据列表即可产生最简单的Series"
   ]
  },
  {
   "cell_type": "code",
   "execution_count": 4,
   "id": "c76adaaa",
   "metadata": {},
   "outputs": [],
   "source": [
    "s1 = pd.Series([1,'a',5.2,7])"
   ]
  },
  {
   "cell_type": "code",
   "execution_count": 5,
   "id": "f042fc84",
   "metadata": {},
   "outputs": [
    {
     "data": {
      "text/plain": [
       "0      1\n",
       "1      a\n",
       "2    5.2\n",
       "3      7\n",
       "dtype: object"
      ]
     },
     "execution_count": 5,
     "metadata": {},
     "output_type": "execute_result"
    }
   ],
   "source": [
    "# 左侧是索引，右侧是数据\n",
    "s1"
   ]
  },
  {
   "cell_type": "code",
   "execution_count": null,
   "id": "0112fb5d",
   "metadata": {},
   "outputs": [],
   "source": []
  }
 ],
 "metadata": {
  "kernelspec": {
   "display_name": "Python 3 (ipykernel)",
   "language": "python",
   "name": "python3"
  },
  "language_info": {
   "codemirror_mode": {
    "name": "ipython",
    "version": 3
   },
   "file_extension": ".py",
   "mimetype": "text/x-python",
   "name": "python",
   "nbconvert_exporter": "python",
   "pygments_lexer": "ipython3",
   "version": "3.9.19"
  }
 },
 "nbformat": 4,
 "nbformat_minor": 5
}
